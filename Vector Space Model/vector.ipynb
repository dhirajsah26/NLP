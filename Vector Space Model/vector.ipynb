{
 "cells": [
  {
   "cell_type": "code",
   "execution_count": 1,
   "metadata": {},
   "outputs": [
    {
     "name": "stderr",
     "output_type": "stream",
     "text": [
      "[nltk_data] Downloading package punkt to\n",
      "[nltk_data]     C:\\Users\\ishan\\AppData\\Roaming\\nltk_data...\n",
      "[nltk_data]   Package punkt is already up-to-date!\n"
     ]
    },
    {
     "data": {
      "text/plain": [
       "True"
      ]
     },
     "execution_count": 1,
     "metadata": {},
     "output_type": "execute_result"
    }
   ],
   "source": [
    "import pickle \n",
    "import numpy as np \n",
    "import pandas as pd \n",
    "import matplotlib.pyplot as plt \n",
    "\n",
    "import nltk\n",
    "from gensim.models import KeyedVectors\n",
    "nltk.download('punkt')\n",
    " "
   ]
  },
  {
   "cell_type": "code",
   "execution_count": 2,
   "metadata": {},
   "outputs": [
    {
     "data": {
      "text/html": [
       "<div>\n",
       "<style scoped>\n",
       "    .dataframe tbody tr th:only-of-type {\n",
       "        vertical-align: middle;\n",
       "    }\n",
       "\n",
       "    .dataframe tbody tr th {\n",
       "        vertical-align: top;\n",
       "    }\n",
       "\n",
       "    .dataframe thead th {\n",
       "        text-align: right;\n",
       "    }\n",
       "</style>\n",
       "<table border=\"1\" class=\"dataframe\">\n",
       "  <thead>\n",
       "    <tr style=\"text-align: right;\">\n",
       "      <th></th>\n",
       "      <th>city1</th>\n",
       "      <th>country1</th>\n",
       "      <th>city2</th>\n",
       "      <th>country2</th>\n",
       "    </tr>\n",
       "  </thead>\n",
       "  <tbody>\n",
       "    <tr>\n",
       "      <th>0</th>\n",
       "      <td>Athens</td>\n",
       "      <td>Greece</td>\n",
       "      <td>Bangkok</td>\n",
       "      <td>Thailand</td>\n",
       "    </tr>\n",
       "    <tr>\n",
       "      <th>1</th>\n",
       "      <td>Athens</td>\n",
       "      <td>Greece</td>\n",
       "      <td>Beijing</td>\n",
       "      <td>China</td>\n",
       "    </tr>\n",
       "    <tr>\n",
       "      <th>2</th>\n",
       "      <td>Athens</td>\n",
       "      <td>Greece</td>\n",
       "      <td>Berlin</td>\n",
       "      <td>Germany</td>\n",
       "    </tr>\n",
       "    <tr>\n",
       "      <th>3</th>\n",
       "      <td>Athens</td>\n",
       "      <td>Greece</td>\n",
       "      <td>Bern</td>\n",
       "      <td>Switzerland</td>\n",
       "    </tr>\n",
       "    <tr>\n",
       "      <th>4</th>\n",
       "      <td>Athens</td>\n",
       "      <td>Greece</td>\n",
       "      <td>Cairo</td>\n",
       "      <td>Egypt</td>\n",
       "    </tr>\n",
       "  </tbody>\n",
       "</table>\n",
       "</div>"
      ],
      "text/plain": [
       "    city1 country1    city2     country2\n",
       "0  Athens   Greece  Bangkok     Thailand\n",
       "1  Athens   Greece  Beijing        China\n",
       "2  Athens   Greece   Berlin      Germany\n",
       "3  Athens   Greece     Bern  Switzerland\n",
       "4  Athens   Greece    Cairo        Egypt"
      ]
     },
     "execution_count": 2,
     "metadata": {},
     "output_type": "execute_result"
    }
   ],
   "source": [
    "data = pd.read_csv(\"data/capitals.txt\", delimiter = ' ')\n",
    "data.columns = ['city1', 'country1', 'city2' , 'country2']\n",
    "# print first five elements in the department \n",
    "data.head(5)"
   ]
  },
  {
   "cell_type": "code",
   "execution_count": 3,
   "metadata": {},
   "outputs": [
    {
     "data": {
      "text/plain": [
       "(4951, 4)"
      ]
     },
     "execution_count": 3,
     "metadata": {},
     "output_type": "execute_result"
    }
   ],
   "source": [
    "data.shape"
   ]
  },
  {
   "cell_type": "code",
   "execution_count": 4,
   "metadata": {},
   "outputs": [],
   "source": [
    "embeddings = KeyedVectors.load_word2vec_format('data/GoogleNews-vectors-negative300.bin.gz', binary=True)\n",
    "f = open('data/capitals.txt','r').read()\n",
    "set_words = set(nltk.word_tokenize(f))\n",
    "select_words = words = ['King', 'queen', 'oil', 'gas', 'happy', 'sad' , 'city' , 'town', 'village', 'country', 'continient', 'petroleum', 'joyful']\n",
    "\n",
    "for w in select_words:\n",
    "    set_words.add(w)\n",
    "\n"
   ]
  },
  {
   "cell_type": "code",
   "execution_count": 5,
   "metadata": {},
   "outputs": [
    {
     "name": "stdout",
     "output_type": "stream",
     "text": [
      "242\n"
     ]
    }
   ],
   "source": [
    "def get_word_embeddings(embeddings):\n",
    "    word_embeddings = {}\n",
    "    for word in embeddings.key_to_index:\n",
    "        if word in set_words:\n",
    "            word_embeddings[word] = embeddings[word]\n",
    "    return word_embeddings\n",
    "    \n",
    "# testing the function \n",
    "word_embeddings = get_word_embeddings(embeddings)\n",
    "print(len(word_embeddings))\n"
   ]
  },
  {
   "cell_type": "code",
   "execution_count": 6,
   "metadata": {},
   "outputs": [],
   "source": [
    "pickle.dump( word_embeddings, open( \"word_embeddings_subset.p\", \"wb\" ) )"
   ]
  },
  {
   "cell_type": "markdown",
   "metadata": {},
   "source": [
    "Now we will load the word embeddings as a python dictionary. As stated these have already been obtained through a machine learning algorithm. "
   ]
  },
  {
   "cell_type": "code",
   "execution_count": 7,
   "metadata": {},
   "outputs": [
    {
     "data": {
      "text/plain": [
       "243"
      ]
     },
     "execution_count": 7,
     "metadata": {},
     "output_type": "execute_result"
    }
   ],
   "source": [
    "word_embeddings = pickle.load(open(\"data/word_embeddings_subset.p\", \"rb\"))\n",
    "len(word_embeddings)"
   ]
  },
  {
   "cell_type": "markdown",
   "metadata": {},
   "source": [
    "Each of the word embedding is a 300 dimensional vector. "
   ]
  },
  {
   "cell_type": "code",
   "execution_count": 8,
   "metadata": {},
   "outputs": [
    {
     "name": "stdout",
     "output_type": "stream",
     "text": [
      "dimension: 300\n"
     ]
    }
   ],
   "source": [
    "print(\"dimension: {}\".format(word_embeddings['Spain'].shape[0]))"
   ]
  },
  {
   "cell_type": "markdown",
   "metadata": {},
   "source": [
    "Now you will write a function that will use the word embeddings topredict relationships among words. \n",
    "\n",
    "The input will take as input three words.\n",
    "The first two are related to each other. \n",
    "It will predict a 4th word which is related to third word in a similar manner as the two first two words are related to each other. \n",
    "As an example,\"Athens is to Greece as Bangkok is to __\"?\n",
    "You wiull write a program that is capable of finding the fourth word. \n",
    "We will give you a hint to show how to compute this. \n",
    "\n",
    "A smimilar analogy would be the following:\n",
    "IN chess:\n",
    "king - man + woman = queen \n",
    "\n",
    "\n",
    "The cosine Similarity function is:\n",
    "cos(theta)A.B/||A||||B|| = sumation of (prodcut) of AB)/ root of sqaure A product squatre  root of B \n",
    "\n",
    "A and B represent the word vectors and A or B represent index I of the vector. Note that if A and B are identical, you will get cos(theta) = 1. \n",
    "\n",
    "otherwise if they are the opposite, meainng, A = -B, then you would get cos(theta) = -1\n",
    "if you get cos(theta) = 0 , that means that they are orthogonal (or perpendicular). \n",
    "Numbers between 0 and 1 indicates a similarity score. \n",
    "Numbers between -1 and 0 indicates a dissimilarity score. \n",
    "\n",
    "\n",
    "\n",
    "\n"
   ]
  },
  {
   "cell_type": "markdown",
   "metadata": {},
   "source": [
    "# Excercise 1 Cosine_Similarity\n",
    "\n",
    "implement a function that takes in two word vectors and computes the cosine distance. \n"
   ]
  },
  {
   "cell_type": "code",
   "execution_count": 9,
   "metadata": {},
   "outputs": [],
   "source": [
    "def cosine_similarity(A,B):\n",
    "    '''Input:\n",
    "            A: a numpy array which corresponds to a word vector\n",
    "            B: A numpy array which correcsponds to a word vector\n",
    "        Output:\n",
    "            cos: numerical number representing the cosine similariy between A and . \n",
    "    '''\n",
    "\n",
    "    ### Start COde Here ### \n",
    "    dot = np.dot(A,B)\n",
    "    norma = np.linalg.norm(A)  \n",
    "    normb = np.linalg.norm(B)\n",
    "    cos = dot/(norma*normb)\n",
    "\n",
    "    return cos"
   ]
  },
  {
   "cell_type": "code",
   "execution_count": 10,
   "metadata": {},
   "outputs": [
    {
     "data": {
      "text/plain": [
       "0.6510956"
      ]
     },
     "execution_count": 10,
     "metadata": {},
     "output_type": "execute_result"
    }
   ],
   "source": [
    "king = word_embeddings['king']\n",
    "queen = word_embeddings['queen']\n",
    "\n",
    "cosine_similarity(king, queen)"
   ]
  },
  {
   "cell_type": "markdown",
   "metadata": {},
   "source": [
    "# Euclidean Distance \n",
    "You will now implkement a function that computes the suiimilarity between two vectors using the Euclidean distanc. Euclidean distance is defined as :\n",
    "\n",
    "d(A,B) = d(B,A) = root of square of (A-B)^2 + (A-B)^2...+(A - B) ^ 2\n",
    "\n",
    "n i sthe number of elements in the vector \n",
    "A and B are the corresponding word vectors. \n",
    "The more similar the words, the more likley the Euclidean distance will be close to 0. \n",
    "\n",
    "# Euclidean\n",
    "Implement a function that computesthe Euclidean distance between two vectors. \n",
    "\n"
   ]
  },
  {
   "cell_type": "code",
   "execution_count": 11,
   "metadata": {},
   "outputs": [],
   "source": [
    "def euclidean(A, B):\n",
    "    '''' INput:\n",
    "            A: a numpy array which corresponds to a word vector\n",
    "            B: a numpy aray which correspojnse to a wprd vector\n",
    "        Output:\n",
    "        d: numerical number representing the Euclidean distance between A and B. \n",
    "    '''\n",
    "\n",
    "    d = np.sqrt(np.sum((A-B)**2))\n",
    "\n",
    "    return d"
   ]
  },
  {
   "cell_type": "code",
   "execution_count": 12,
   "metadata": {},
   "outputs": [
    {
     "data": {
      "text/plain": [
       "2.4796925"
      ]
     },
     "execution_count": 12,
     "metadata": {},
     "output_type": "execute_result"
    }
   ],
   "source": [
    "# Test your function\n",
    "euclidean(king, queen)"
   ]
  },
  {
   "cell_type": "markdown",
   "metadata": {},
   "source": [
    "# 1.4 FInding the country of each Capital \n",
    "Now, you will use the previous  functions to compute similarities between vectors, and use these to find the capital cities of countries. You will write a function that takes in three word, and the embeding dictionary. Your task is to find the capital citiesr. FOr examples, given the following words:\n",
    "\n",
    "1 Athens 2: Grece 3: Baghdad, \n",
    "\n",
    "Your taks is to predict the country4: Iraq.\n",
    "\n",
    "# Exercise 3 - get_country\n",
    "\n",
    "### Instructions:\n",
    "1. TO predict the capital you might want to look at the King - Man + Woman = Queen exampleabove, and implement that scheme into a mathematical functiona, using the word embeddings and a similarity function. \n",
    "\n",
    "2. Iterate over the embedings dictionary and compute the cosine similarity score between your vector abd the current word embedding. \n",
    "3. You should add a check to make sure that the word you return is not any of the words that you fed in your function. Return the one with the highest score. \n"
   ]
  },
  {
   "cell_type": "code",
   "execution_count": 33,
   "metadata": {},
   "outputs": [],
   "source": [
    "def get_country(city1, country1, city2, embeddings, cosine_similarity = cosine_similarity):\n",
    "    \"\"\"\n",
    "\n",
    "    \"\"\"\n",
    "    # storing the city1 country1 and city2 in a set called group\n",
    "    group = [city1, country1, city2]\n",
    "\n",
    "    # get embeddings of the city1\n",
    "    city1_emb = embeddings[city1]\n",
    "\n",
    "    # get_embedding of country 1\n",
    "    country1_emb = embeddings[country1]\n",
    "\n",
    "    #get embedding of city2\n",
    "    city2_emb = embeddings[city2]\n",
    "\n",
    "    # get embedding of country2 \n",
    "    vec = (country1_emb - city1_emb) + city2_emb\n",
    "\n",
    "    # Intialize the similarity to -1 (it will be replaced by  a smilarities that aree closer to +1)\n",
    "    similarity = -1\n",
    "\n",
    "    # intialize country to empty string\n",
    "    country = ''\n",
    "\n",
    "    # Loop through all words in the embeddings dictionary\n",
    "    for word in embeddings.keys():\n",
    "        #first check if the word is in group\n",
    "        if word not in group:\n",
    "             # get the word embedding\n",
    "             word_emb = embeddings[word]\n",
    "\n",
    "             # calculate the cosine similarity \n",
    "             cur_similarity = cosine_similarity( vec , word_emb)\n",
    "\n",
    "             if cur_similarity> similarity:\n",
    "                 similarity = cur_similarity\n",
    "                 country = (word, similarity)\n",
    "    return country\n",
    "\n"
   ]
  },
  {
   "cell_type": "code",
   "execution_count": 34,
   "metadata": {},
   "outputs": [
    {
     "data": {
      "text/plain": [
       "('Egypt', 0.7626821)"
      ]
     },
     "execution_count": 34,
     "metadata": {},
     "output_type": "execute_result"
    }
   ],
   "source": [
    "get_country('Athens', 'Greece', 'Cairo', word_embeddings)"
   ]
  },
  {
   "cell_type": "markdown",
   "metadata": {},
   "source": [
    "# Model Accuracy "
   ]
  },
  {
   "cell_type": "markdown",
   "metadata": {},
   "source": [
    "Checking the model accuracy of the new function on the dataset\n",
    "\n",
    "Accuracy = correct # of predictions/ Toral # of predictions"
   ]
  },
  {
   "cell_type": "code",
   "execution_count": 47,
   "metadata": {},
   "outputs": [],
   "source": [
    "def get_accuracy(word_embeddings, data, get_country = get_country):\n",
    "    ''''''\n",
    "    #initialize num correct to zero\n",
    "    num_correct = 0\n",
    "    # Loop through the rows of the dataframe\n",
    "    for i , row in data.iterrows():\n",
    "        city1 = row['city1']\n",
    "\n",
    "        country1 = row['country1']\n",
    "\n",
    "        city2 = row['city2']\n",
    "\n",
    "        country2 = row['country2']\n",
    "\n",
    "        predcited_country2,_ = get_country(city1,country1, city2, word_embeddings )\n",
    "\n",
    "        if predcited_country2 == country2:\n",
    "            # increment the number of correct by 1 \n",
    "            num_correct +=1\n",
    "\n",
    "    m = len(data)\n",
    "    \n",
    "    #calculate the accuracy by dividing the number correct by m\n",
    "    accuracy = num_correct/m\n",
    "\n",
    "    return accuracy"
   ]
  },
  {
   "cell_type": "code",
   "execution_count": 48,
   "metadata": {},
   "outputs": [
    {
     "name": "stdout",
     "output_type": "stream",
     "text": [
      "Accuracy is 0.92\n"
     ]
    }
   ],
   "source": [
    "accuracy = get_accuracy(word_embeddings, data)\n",
    "print(f\"Accuracy is {accuracy:.2f}\")"
   ]
  },
  {
   "cell_type": "markdown",
   "metadata": {},
   "source": [
    "# Compute PCA"
   ]
  },
  {
   "cell_type": "code",
   "execution_count": 103,
   "metadata": {},
   "outputs": [],
   "source": [
    "def get_vectors(words, embedding):\n",
    "    X = np.zeros((1,300))\n",
    "    for word in words:\n",
    "        if word in embedding:\n",
    "            x = embedding[word]\n",
    "            X = np.row_stack((X,x))\n",
    "    X = X[1:,:]\n",
    "    return X\n",
    "\n"
   ]
  },
  {
   "cell_type": "code",
   "execution_count": 121,
   "metadata": {},
   "outputs": [],
   "source": [
    "vec = get_vectors(select_words,word_embeddings)"
   ]
  },
  {
   "cell_type": "code",
   "execution_count": 122,
   "metadata": {},
   "outputs": [
    {
     "data": {
      "text/plain": [
       "numpy.ndarray"
      ]
     },
     "execution_count": 122,
     "metadata": {},
     "output_type": "execute_result"
    }
   ],
   "source": [
    "type(vec)"
   ]
  },
  {
   "cell_type": "code",
   "execution_count": 123,
   "metadata": {},
   "outputs": [],
   "source": [
    "vec_df = pd.DataFrame(vec)"
   ]
  },
  {
   "cell_type": "code",
   "execution_count": 124,
   "metadata": {},
   "outputs": [
    {
     "data": {
      "text/html": [
       "<div>\n",
       "<style scoped>\n",
       "    .dataframe tbody tr th:only-of-type {\n",
       "        vertical-align: middle;\n",
       "    }\n",
       "\n",
       "    .dataframe tbody tr th {\n",
       "        vertical-align: top;\n",
       "    }\n",
       "\n",
       "    .dataframe thead th {\n",
       "        text-align: right;\n",
       "    }\n",
       "</style>\n",
       "<table border=\"1\" class=\"dataframe\">\n",
       "  <thead>\n",
       "    <tr style=\"text-align: right;\">\n",
       "      <th></th>\n",
       "      <th>0</th>\n",
       "      <th>1</th>\n",
       "      <th>2</th>\n",
       "      <th>3</th>\n",
       "      <th>4</th>\n",
       "      <th>5</th>\n",
       "      <th>6</th>\n",
       "      <th>7</th>\n",
       "      <th>8</th>\n",
       "      <th>9</th>\n",
       "      <th>...</th>\n",
       "      <th>290</th>\n",
       "      <th>291</th>\n",
       "      <th>292</th>\n",
       "      <th>293</th>\n",
       "      <th>294</th>\n",
       "      <th>295</th>\n",
       "      <th>296</th>\n",
       "      <th>297</th>\n",
       "      <th>298</th>\n",
       "      <th>299</th>\n",
       "    </tr>\n",
       "  </thead>\n",
       "  <tbody>\n",
       "    <tr>\n",
       "      <th>0</th>\n",
       "      <td>0.005249</td>\n",
       "      <td>-0.143555</td>\n",
       "      <td>-0.069336</td>\n",
       "      <td>0.123535</td>\n",
       "      <td>0.131836</td>\n",
       "      <td>-0.088867</td>\n",
       "      <td>-0.071289</td>\n",
       "      <td>-0.216797</td>\n",
       "      <td>-0.197266</td>\n",
       "      <td>0.055664</td>\n",
       "      <td>...</td>\n",
       "      <td>-0.004608</td>\n",
       "      <td>-0.225586</td>\n",
       "      <td>-0.378906</td>\n",
       "      <td>-0.376953</td>\n",
       "      <td>-0.082520</td>\n",
       "      <td>-0.041260</td>\n",
       "      <td>0.167969</td>\n",
       "      <td>-0.046875</td>\n",
       "      <td>0.163086</td>\n",
       "      <td>0.154297</td>\n",
       "    </tr>\n",
       "    <tr>\n",
       "      <th>1</th>\n",
       "      <td>-0.139648</td>\n",
       "      <td>0.062256</td>\n",
       "      <td>-0.279297</td>\n",
       "      <td>0.063965</td>\n",
       "      <td>0.044434</td>\n",
       "      <td>-0.154297</td>\n",
       "      <td>-0.184570</td>\n",
       "      <td>-0.498047</td>\n",
       "      <td>0.047363</td>\n",
       "      <td>0.110840</td>\n",
       "      <td>...</td>\n",
       "      <td>-0.195312</td>\n",
       "      <td>-0.345703</td>\n",
       "      <td>0.217773</td>\n",
       "      <td>-0.091797</td>\n",
       "      <td>0.051025</td>\n",
       "      <td>0.061279</td>\n",
       "      <td>0.194336</td>\n",
       "      <td>0.204102</td>\n",
       "      <td>0.235352</td>\n",
       "      <td>-0.051025</td>\n",
       "    </tr>\n",
       "    <tr>\n",
       "      <th>2</th>\n",
       "      <td>-0.161133</td>\n",
       "      <td>0.105469</td>\n",
       "      <td>-0.138672</td>\n",
       "      <td>0.010803</td>\n",
       "      <td>0.017090</td>\n",
       "      <td>-0.041504</td>\n",
       "      <td>-0.145508</td>\n",
       "      <td>-0.341797</td>\n",
       "      <td>-0.028564</td>\n",
       "      <td>0.184570</td>\n",
       "      <td>...</td>\n",
       "      <td>-0.111328</td>\n",
       "      <td>-0.218750</td>\n",
       "      <td>-0.203125</td>\n",
       "      <td>0.140625</td>\n",
       "      <td>-0.041992</td>\n",
       "      <td>0.026611</td>\n",
       "      <td>0.120605</td>\n",
       "      <td>0.255859</td>\n",
       "      <td>0.202148</td>\n",
       "      <td>-0.019287</td>\n",
       "    </tr>\n",
       "    <tr>\n",
       "      <th>3</th>\n",
       "      <td>-0.000519</td>\n",
       "      <td>0.160156</td>\n",
       "      <td>0.001610</td>\n",
       "      <td>0.025391</td>\n",
       "      <td>0.099121</td>\n",
       "      <td>-0.085938</td>\n",
       "      <td>0.324219</td>\n",
       "      <td>-0.021729</td>\n",
       "      <td>0.134766</td>\n",
       "      <td>0.110352</td>\n",
       "      <td>...</td>\n",
       "      <td>-0.109863</td>\n",
       "      <td>0.107910</td>\n",
       "      <td>-0.070312</td>\n",
       "      <td>-0.127930</td>\n",
       "      <td>-0.050781</td>\n",
       "      <td>0.042725</td>\n",
       "      <td>-0.073242</td>\n",
       "      <td>-0.035400</td>\n",
       "      <td>0.088867</td>\n",
       "      <td>-0.302734</td>\n",
       "    </tr>\n",
       "    <tr>\n",
       "      <th>4</th>\n",
       "      <td>0.189453</td>\n",
       "      <td>0.045898</td>\n",
       "      <td>0.066895</td>\n",
       "      <td>-0.044678</td>\n",
       "      <td>0.178711</td>\n",
       "      <td>0.019653</td>\n",
       "      <td>0.347656</td>\n",
       "      <td>-0.024658</td>\n",
       "      <td>0.406250</td>\n",
       "      <td>0.105957</td>\n",
       "      <td>...</td>\n",
       "      <td>-0.145508</td>\n",
       "      <td>0.033447</td>\n",
       "      <td>0.000477</td>\n",
       "      <td>0.146484</td>\n",
       "      <td>-0.146484</td>\n",
       "      <td>0.033936</td>\n",
       "      <td>-0.052490</td>\n",
       "      <td>-0.062012</td>\n",
       "      <td>0.082520</td>\n",
       "      <td>-0.025513</td>\n",
       "    </tr>\n",
       "    <tr>\n",
       "      <th>5</th>\n",
       "      <td>-0.010071</td>\n",
       "      <td>0.057373</td>\n",
       "      <td>0.183594</td>\n",
       "      <td>-0.040039</td>\n",
       "      <td>-0.029785</td>\n",
       "      <td>-0.079102</td>\n",
       "      <td>0.071777</td>\n",
       "      <td>0.013306</td>\n",
       "      <td>-0.143555</td>\n",
       "      <td>0.011292</td>\n",
       "      <td>...</td>\n",
       "      <td>0.024292</td>\n",
       "      <td>-0.168945</td>\n",
       "      <td>-0.062988</td>\n",
       "      <td>0.117188</td>\n",
       "      <td>-0.020508</td>\n",
       "      <td>0.030273</td>\n",
       "      <td>-0.247070</td>\n",
       "      <td>-0.122559</td>\n",
       "      <td>0.076172</td>\n",
       "      <td>-0.234375</td>\n",
       "    </tr>\n",
       "    <tr>\n",
       "      <th>6</th>\n",
       "      <td>0.123535</td>\n",
       "      <td>0.159180</td>\n",
       "      <td>0.030029</td>\n",
       "      <td>-0.161133</td>\n",
       "      <td>0.015625</td>\n",
       "      <td>0.111816</td>\n",
       "      <td>0.039795</td>\n",
       "      <td>-0.196289</td>\n",
       "      <td>-0.039307</td>\n",
       "      <td>0.067871</td>\n",
       "      <td>...</td>\n",
       "      <td>-0.007935</td>\n",
       "      <td>-0.091797</td>\n",
       "      <td>-0.265625</td>\n",
       "      <td>0.029297</td>\n",
       "      <td>0.089844</td>\n",
       "      <td>-0.049805</td>\n",
       "      <td>-0.202148</td>\n",
       "      <td>-0.079590</td>\n",
       "      <td>0.068848</td>\n",
       "      <td>-0.164062</td>\n",
       "    </tr>\n",
       "    <tr>\n",
       "      <th>7</th>\n",
       "      <td>0.147461</td>\n",
       "      <td>0.205078</td>\n",
       "      <td>0.090332</td>\n",
       "      <td>-0.215820</td>\n",
       "      <td>0.027954</td>\n",
       "      <td>0.198242</td>\n",
       "      <td>0.101562</td>\n",
       "      <td>-0.058105</td>\n",
       "      <td>-0.029663</td>\n",
       "      <td>0.025879</td>\n",
       "      <td>...</td>\n",
       "      <td>-0.193359</td>\n",
       "      <td>-0.156250</td>\n",
       "      <td>-0.349609</td>\n",
       "      <td>-0.117676</td>\n",
       "      <td>-0.110352</td>\n",
       "      <td>0.219727</td>\n",
       "      <td>-0.402344</td>\n",
       "      <td>-0.210938</td>\n",
       "      <td>0.200195</td>\n",
       "      <td>-0.023071</td>\n",
       "    </tr>\n",
       "    <tr>\n",
       "      <th>8</th>\n",
       "      <td>-0.080078</td>\n",
       "      <td>0.133789</td>\n",
       "      <td>0.143555</td>\n",
       "      <td>0.094727</td>\n",
       "      <td>-0.047363</td>\n",
       "      <td>-0.023560</td>\n",
       "      <td>-0.008545</td>\n",
       "      <td>-0.186523</td>\n",
       "      <td>0.045898</td>\n",
       "      <td>-0.081543</td>\n",
       "      <td>...</td>\n",
       "      <td>-0.145508</td>\n",
       "      <td>0.067383</td>\n",
       "      <td>-0.244141</td>\n",
       "      <td>-0.077148</td>\n",
       "      <td>0.047607</td>\n",
       "      <td>-0.075195</td>\n",
       "      <td>-0.149414</td>\n",
       "      <td>-0.044189</td>\n",
       "      <td>0.097168</td>\n",
       "      <td>0.067383</td>\n",
       "    </tr>\n",
       "    <tr>\n",
       "      <th>9</th>\n",
       "      <td>-0.118652</td>\n",
       "      <td>0.199219</td>\n",
       "      <td>-0.222656</td>\n",
       "      <td>0.108887</td>\n",
       "      <td>0.047852</td>\n",
       "      <td>-0.306641</td>\n",
       "      <td>-0.188477</td>\n",
       "      <td>-0.695312</td>\n",
       "      <td>-0.001259</td>\n",
       "      <td>0.041016</td>\n",
       "      <td>...</td>\n",
       "      <td>-0.179688</td>\n",
       "      <td>-0.361328</td>\n",
       "      <td>0.135742</td>\n",
       "      <td>-0.057373</td>\n",
       "      <td>0.148438</td>\n",
       "      <td>0.026489</td>\n",
       "      <td>0.269531</td>\n",
       "      <td>0.099609</td>\n",
       "      <td>0.206055</td>\n",
       "      <td>-0.099121</td>\n",
       "    </tr>\n",
       "    <tr>\n",
       "      <th>10</th>\n",
       "      <td>0.180664</td>\n",
       "      <td>-0.009033</td>\n",
       "      <td>0.129883</td>\n",
       "      <td>0.083984</td>\n",
       "      <td>0.021606</td>\n",
       "      <td>-0.255859</td>\n",
       "      <td>0.117188</td>\n",
       "      <td>0.018188</td>\n",
       "      <td>0.091797</td>\n",
       "      <td>0.116699</td>\n",
       "      <td>...</td>\n",
       "      <td>-0.032715</td>\n",
       "      <td>-0.058350</td>\n",
       "      <td>-0.112305</td>\n",
       "      <td>-0.349609</td>\n",
       "      <td>-0.197266</td>\n",
       "      <td>0.069824</td>\n",
       "      <td>0.213867</td>\n",
       "      <td>-0.339844</td>\n",
       "      <td>0.273438</td>\n",
       "      <td>0.044922</td>\n",
       "    </tr>\n",
       "  </tbody>\n",
       "</table>\n",
       "<p>11 rows × 300 columns</p>\n",
       "</div>"
      ],
      "text/plain": [
       "         0         1         2         3         4         5         6    \\\n",
       "0   0.005249 -0.143555 -0.069336  0.123535  0.131836 -0.088867 -0.071289   \n",
       "1  -0.139648  0.062256 -0.279297  0.063965  0.044434 -0.154297 -0.184570   \n",
       "2  -0.161133  0.105469 -0.138672  0.010803  0.017090 -0.041504 -0.145508   \n",
       "3  -0.000519  0.160156  0.001610  0.025391  0.099121 -0.085938  0.324219   \n",
       "4   0.189453  0.045898  0.066895 -0.044678  0.178711  0.019653  0.347656   \n",
       "5  -0.010071  0.057373  0.183594 -0.040039 -0.029785 -0.079102  0.071777   \n",
       "6   0.123535  0.159180  0.030029 -0.161133  0.015625  0.111816  0.039795   \n",
       "7   0.147461  0.205078  0.090332 -0.215820  0.027954  0.198242  0.101562   \n",
       "8  -0.080078  0.133789  0.143555  0.094727 -0.047363 -0.023560 -0.008545   \n",
       "9  -0.118652  0.199219 -0.222656  0.108887  0.047852 -0.306641 -0.188477   \n",
       "10  0.180664 -0.009033  0.129883  0.083984  0.021606 -0.255859  0.117188   \n",
       "\n",
       "         7         8         9    ...       290       291       292       293  \\\n",
       "0  -0.216797 -0.197266  0.055664  ... -0.004608 -0.225586 -0.378906 -0.376953   \n",
       "1  -0.498047  0.047363  0.110840  ... -0.195312 -0.345703  0.217773 -0.091797   \n",
       "2  -0.341797 -0.028564  0.184570  ... -0.111328 -0.218750 -0.203125  0.140625   \n",
       "3  -0.021729  0.134766  0.110352  ... -0.109863  0.107910 -0.070312 -0.127930   \n",
       "4  -0.024658  0.406250  0.105957  ... -0.145508  0.033447  0.000477  0.146484   \n",
       "5   0.013306 -0.143555  0.011292  ...  0.024292 -0.168945 -0.062988  0.117188   \n",
       "6  -0.196289 -0.039307  0.067871  ... -0.007935 -0.091797 -0.265625  0.029297   \n",
       "7  -0.058105 -0.029663  0.025879  ... -0.193359 -0.156250 -0.349609 -0.117676   \n",
       "8  -0.186523  0.045898 -0.081543  ... -0.145508  0.067383 -0.244141 -0.077148   \n",
       "9  -0.695312 -0.001259  0.041016  ... -0.179688 -0.361328  0.135742 -0.057373   \n",
       "10  0.018188  0.091797  0.116699  ... -0.032715 -0.058350 -0.112305 -0.349609   \n",
       "\n",
       "         294       295       296       297       298       299  \n",
       "0  -0.082520 -0.041260  0.167969 -0.046875  0.163086  0.154297  \n",
       "1   0.051025  0.061279  0.194336  0.204102  0.235352 -0.051025  \n",
       "2  -0.041992  0.026611  0.120605  0.255859  0.202148 -0.019287  \n",
       "3  -0.050781  0.042725 -0.073242 -0.035400  0.088867 -0.302734  \n",
       "4  -0.146484  0.033936 -0.052490 -0.062012  0.082520 -0.025513  \n",
       "5  -0.020508  0.030273 -0.247070 -0.122559  0.076172 -0.234375  \n",
       "6   0.089844 -0.049805 -0.202148 -0.079590  0.068848 -0.164062  \n",
       "7  -0.110352  0.219727 -0.402344 -0.210938  0.200195 -0.023071  \n",
       "8   0.047607 -0.075195 -0.149414 -0.044189  0.097168  0.067383  \n",
       "9   0.148438  0.026489  0.269531  0.099609  0.206055 -0.099121  \n",
       "10 -0.197266  0.069824  0.213867 -0.339844  0.273438  0.044922  \n",
       "\n",
       "[11 rows x 300 columns]"
      ]
     },
     "execution_count": 124,
     "metadata": {},
     "output_type": "execute_result"
    }
   ],
   "source": [
    "vec_df"
   ]
  },
  {
   "cell_type": "code",
   "execution_count": 175,
   "metadata": {},
   "outputs": [],
   "source": [
    "def compute_pca(X,n_components = 2):\n",
    "    \"\"\"\n",
    "    \"\"\"\n",
    "    # Mean Centerd the data\n",
    "    X_mean = np.mean(X,axis=0)\n",
    "    centered_data  = X - X_mean\n",
    "\n",
    "    # Calculate Covariance matrix\n",
    "    cov_matrix = np.cov(centered_data)\n",
    "\n",
    "    # print(len(cov_matrix))\n",
    "    # print(cov_matrix)\n",
    "\n",
    "\n",
    "    eigen_vals, eigen_vecs = np.linalg.eig(cov_matrix)\n",
    "    print(eigen_vals, eigen_vecs)\n",
    "\n",
    "    "
   ]
  },
  {
   "cell_type": "code",
   "execution_count": 176,
   "metadata": {},
   "outputs": [
    {
     "name": "stdout",
     "output_type": "stream",
     "text": [
      "[6.39961955e-02 4.18138971e-02 2.91606831e-02 1.32556131e-18\n",
      " 1.62352697e-02 4.18018975e-03 6.33390518e-03 1.34189141e-02\n",
      " 1.16330674e-02 9.22441351e-03 9.65869391e-03] [[-0.18183541  0.06438431  0.91541842  0.30151134 -0.03757951  0.0155201\n",
      "  -0.08336587 -0.07817445  0.06347233  0.12256273 -0.01122473]\n",
      " [ 0.47831743  0.06019435  0.06009728  0.30151134  0.05318592  0.07960778\n",
      "   0.80869906 -0.05595704 -0.02001388  0.01114272 -0.07907019]\n",
      " [ 0.43017575 -0.02193857  0.00241371  0.30151134 -0.10047565 -0.0824667\n",
      "  -0.32489684 -0.28923868 -0.39762271 -0.28147654  0.52925104]\n",
      " [-0.21903427  0.3228188  -0.151697    0.30151134 -0.23812223 -0.02228091\n",
      "  -0.04715704 -0.03078001 -0.63243291  0.05472904 -0.52014849]\n",
      " [-0.25031449  0.45234324 -0.23012019  0.30151134 -0.51915508 -0.03083124\n",
      "   0.09325384 -0.0711307   0.44974117  0.02710563  0.31880027]\n",
      " [-0.12210989 -0.32803787 -0.11621322  0.30151134  0.04850749 -0.41184862\n",
      "   0.07221961  0.37263122 -0.16980767  0.58587471  0.29144458]\n",
      " [-0.17920912 -0.40959421 -0.14036556  0.30151134 -0.05476929  0.81618631\n",
      "  -0.03925925 -0.03027075 -0.02429802  0.10909503  0.07345475]\n",
      " [-0.21195834 -0.50334291 -0.12357604  0.30151134  0.00687776 -0.38134732\n",
      "   0.04368874 -0.49904754  0.23306452 -0.25366474 -0.28362713]\n",
      " [-0.05793492 -0.08360533  0.03399275  0.30151134  0.01084247 -0.04304524\n",
      "  -0.01739749  0.69666215  0.06524753 -0.63487416 -0.05153045]\n",
      " [ 0.54288338  0.06944423 -0.09711621  0.30151134  0.02234241  0.01830637\n",
      "  -0.4598954   0.10846885  0.38008407  0.28085164 -0.39072927]\n",
      " [-0.22898012  0.37733396 -0.15283394  0.30151134  0.80834571  0.04219948\n",
      "  -0.04588937 -0.12316305  0.05256557 -0.02134608  0.12337962]]\n"
     ]
    }
   ],
   "source": [
    "\n",
    "compute_pca(vec)"
   ]
  },
  {
   "cell_type": "code",
   "execution_count": null,
   "metadata": {},
   "outputs": [],
   "source": []
  },
  {
   "cell_type": "code",
   "execution_count": null,
   "metadata": {},
   "outputs": [],
   "source": []
  }
 ],
 "metadata": {
  "kernelspec": {
   "display_name": "test_open3d",
   "language": "python",
   "name": "python3"
  },
  "language_info": {
   "codemirror_mode": {
    "name": "ipython",
    "version": 3
   },
   "file_extension": ".py",
   "mimetype": "text/x-python",
   "name": "python",
   "nbconvert_exporter": "python",
   "pygments_lexer": "ipython3",
   "version": "3.9.19"
  }
 },
 "nbformat": 4,
 "nbformat_minor": 2
}
