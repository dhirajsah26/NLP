{
 "cells": [
  {
   "cell_type": "code",
   "execution_count": 1,
   "metadata": {},
   "outputs": [
    {
     "name": "stderr",
     "output_type": "stream",
     "text": [
      "[nltk_data] Downloading package punkt to\n",
      "[nltk_data]     C:\\Users\\ishan\\AppData\\Roaming\\nltk_data...\n",
      "[nltk_data]   Package punkt is already up-to-date!\n"
     ]
    },
    {
     "data": {
      "text/plain": [
       "True"
      ]
     },
     "execution_count": 1,
     "metadata": {},
     "output_type": "execute_result"
    }
   ],
   "source": [
    "import pickle \n",
    "import numpy as np \n",
    "import pandas as pd \n",
    "import matplotlib.pyplot as plt \n",
    "\n",
    "import nltk\n",
    "from gensim.models import KeyedVectors\n",
    "nltk.download('punkt')\n",
    " "
   ]
  },
  {
   "cell_type": "code",
   "execution_count": 2,
   "metadata": {},
   "outputs": [
    {
     "data": {
      "text/html": [
       "<div>\n",
       "<style scoped>\n",
       "    .dataframe tbody tr th:only-of-type {\n",
       "        vertical-align: middle;\n",
       "    }\n",
       "\n",
       "    .dataframe tbody tr th {\n",
       "        vertical-align: top;\n",
       "    }\n",
       "\n",
       "    .dataframe thead th {\n",
       "        text-align: right;\n",
       "    }\n",
       "</style>\n",
       "<table border=\"1\" class=\"dataframe\">\n",
       "  <thead>\n",
       "    <tr style=\"text-align: right;\">\n",
       "      <th></th>\n",
       "      <th>city1</th>\n",
       "      <th>country1</th>\n",
       "      <th>city2</th>\n",
       "      <th>country2</th>\n",
       "    </tr>\n",
       "  </thead>\n",
       "  <tbody>\n",
       "    <tr>\n",
       "      <th>0</th>\n",
       "      <td>Athens</td>\n",
       "      <td>Greece</td>\n",
       "      <td>Bangkok</td>\n",
       "      <td>Thailand</td>\n",
       "    </tr>\n",
       "    <tr>\n",
       "      <th>1</th>\n",
       "      <td>Athens</td>\n",
       "      <td>Greece</td>\n",
       "      <td>Beijing</td>\n",
       "      <td>China</td>\n",
       "    </tr>\n",
       "    <tr>\n",
       "      <th>2</th>\n",
       "      <td>Athens</td>\n",
       "      <td>Greece</td>\n",
       "      <td>Berlin</td>\n",
       "      <td>Germany</td>\n",
       "    </tr>\n",
       "    <tr>\n",
       "      <th>3</th>\n",
       "      <td>Athens</td>\n",
       "      <td>Greece</td>\n",
       "      <td>Bern</td>\n",
       "      <td>Switzerland</td>\n",
       "    </tr>\n",
       "    <tr>\n",
       "      <th>4</th>\n",
       "      <td>Athens</td>\n",
       "      <td>Greece</td>\n",
       "      <td>Cairo</td>\n",
       "      <td>Egypt</td>\n",
       "    </tr>\n",
       "  </tbody>\n",
       "</table>\n",
       "</div>"
      ],
      "text/plain": [
       "    city1 country1    city2     country2\n",
       "0  Athens   Greece  Bangkok     Thailand\n",
       "1  Athens   Greece  Beijing        China\n",
       "2  Athens   Greece   Berlin      Germany\n",
       "3  Athens   Greece     Bern  Switzerland\n",
       "4  Athens   Greece    Cairo        Egypt"
      ]
     },
     "execution_count": 2,
     "metadata": {},
     "output_type": "execute_result"
    }
   ],
   "source": [
    "data = pd.read_csv(\"data/capitals.txt\", delimiter = ' ')\n",
    "data.columns = ['city1', 'country1', 'city2' , 'country2']\n",
    "# print first five elements in the department \n",
    "data.head(5)"
   ]
  },
  {
   "cell_type": "code",
   "execution_count": 5,
   "metadata": {},
   "outputs": [
    {
     "data": {
      "text/plain": [
       "(4951, 4)"
      ]
     },
     "execution_count": 5,
     "metadata": {},
     "output_type": "execute_result"
    }
   ],
   "source": [
    "data.shape"
   ]
  },
  {
   "cell_type": "code",
   "execution_count": 6,
   "metadata": {},
   "outputs": [],
   "source": [
    "embeddings = KeyedVectors.load_word2vec_format('data/GoogleNews-vectors-negative300.bin.gz', binary=True)\n",
    "f = open('data/capitals.txt','r').read()\n",
    "set_words = set(nltk.word_tokenize(f))\n",
    "select_words = words = ['King', 'queen', 'oil', 'gas', 'happy', 'sad' , 'city' , 'town', 'village', 'country', 'continient', 'petroleum', 'joyful']\n",
    "\n",
    "for w in select_words:\n",
    "    set_words.add(w)\n",
    "\n"
   ]
  },
  {
   "cell_type": "code",
   "execution_count": 7,
   "metadata": {},
   "outputs": [
    {
     "name": "stdout",
     "output_type": "stream",
     "text": [
      "242\n"
     ]
    }
   ],
   "source": [
    "def get_word_embeddings(embeddings):\n",
    "    word_embeddings = {}\n",
    "    for word in embeddings.key_to_index:\n",
    "        if word in set_words:\n",
    "            word_embeddings[word] = embeddings[word]\n",
    "    return word_embeddings\n",
    "    \n",
    "# testing the function \n",
    "word_embeddings = get_word_embeddings(embeddings)\n",
    "print(len(word_embeddings))\n"
   ]
  },
  {
   "cell_type": "code",
   "execution_count": 8,
   "metadata": {},
   "outputs": [],
   "source": [
    "pickle.dump( word_embeddings, open( \"word_embeddings_subset.p\", \"wb\" ) )"
   ]
  },
  {
   "cell_type": "markdown",
   "metadata": {},
   "source": [
    "Now we will load the word embeddings as a python dictionary. As stated these have already been obtained through a machine learning algorithm. "
   ]
  },
  {
   "cell_type": "code",
   "execution_count": 9,
   "metadata": {},
   "outputs": [
    {
     "data": {
      "text/plain": [
       "243"
      ]
     },
     "execution_count": 9,
     "metadata": {},
     "output_type": "execute_result"
    }
   ],
   "source": [
    "word_embeddings = pickle.load(open(\"data/word_embeddings_subset.p\", \"rb\"))\n",
    "len(word_embeddings)"
   ]
  },
  {
   "cell_type": "markdown",
   "metadata": {},
   "source": [
    "Each of the word embedding is a 300 dimensional vector. "
   ]
  },
  {
   "cell_type": "code",
   "execution_count": 10,
   "metadata": {},
   "outputs": [
    {
     "name": "stdout",
     "output_type": "stream",
     "text": [
      "dimension: 300\n"
     ]
    }
   ],
   "source": [
    "print(\"dimension: {}\".format(word_embeddings['Spain'].shape[0]))"
   ]
  },
  {
   "cell_type": "markdown",
   "metadata": {},
   "source": [
    "Now you will write a function that will use the word embeddings topredict relationships among words. \n",
    "\n",
    "The input will take as input three words.\n",
    "The first two are related to each other. \n",
    "It will predict a 4th word which is related to third word in a similar manner as the two first two words are related to each other. \n",
    "As an example,\"Athens is to Greece as Bangkok is to __\"?\n",
    "You wiull write a program that is capable of finding the fourth word. \n",
    "We will give you a hint to show how to compute this. \n",
    "\n",
    "A smimilar analogy would be the following:\n",
    "IN chess:\n",
    "king - man + woman = queen \n",
    "\n",
    "\n",
    "The cosine Similarity function is:\n",
    "cos(theta)A.B/||A||||B|| = sumation of (prodcut) of AB)/ root of sqaure A product squatre  root of B \n",
    "\n",
    "A and B represent the word vectors and A or B represent index I of the vector. Note that if A and B are identical, you will get cos(theta) = 1. \n",
    "\n",
    "otherwise if they are the opposite, meainng, A = -B, then you would get cos(theta) = -1\n",
    "if you get cos(theta) = 0 , that means that they are orthogonal (or perpendicular). \n",
    "Numbers between 0 and 1 indicates a similarity score. \n",
    "Numbers between -1 and 0 indicates a dissimilarity score. \n",
    "\n",
    "\n",
    "\n",
    "\n"
   ]
  },
  {
   "cell_type": "markdown",
   "metadata": {},
   "source": [
    "# Excercise 1 Cosine_Similarity\n",
    "\n",
    "implement a function that takes in two word vectors and computes the cosine distance. \n"
   ]
  },
  {
   "cell_type": "code",
   "execution_count": 11,
   "metadata": {},
   "outputs": [],
   "source": [
    "def cosine_similarity(A,B):\n",
    "    '''Input:\n",
    "            A: a numpy array which corresponds to a word vector\n",
    "            B: A numpy array which correcsponds to a word vector\n",
    "        Output:\n",
    "            cos: numerical number representing the cosine similariy between A and . \n",
    "    '''\n",
    "\n",
    "    ### Start COde Here ### \n",
    "    dot = np.dot(A,B)\n",
    "    norma = np.linalg.norm(A)  \n",
    "    normb = np.linalg.norm(B)\n",
    "    cos = dot/(norma*normb)\n",
    "\n",
    "    return cos"
   ]
  },
  {
   "cell_type": "code",
   "execution_count": 12,
   "metadata": {},
   "outputs": [
    {
     "data": {
      "text/plain": [
       "0.6510956"
      ]
     },
     "execution_count": 12,
     "metadata": {},
     "output_type": "execute_result"
    }
   ],
   "source": [
    "king = word_embeddings['king']\n",
    "queen = word_embeddings['queen']\n",
    "\n",
    "cosine_similarity(king, queen)"
   ]
  },
  {
   "cell_type": "markdown",
   "metadata": {},
   "source": [
    "# Euclidean Distance \n",
    "You will now implkement a function that computes the suiimilarity between two vectors using the Euclidean distanc. Euclidean distance is defined as :\n",
    "\n",
    "d(A,B) = d(B,A) = root of square of (A-B)^2 + (A-B)^2...+(A - B) ^ 2\n",
    "\n",
    "n i sthe number of elements in the vector \n",
    "A and B are the corresponding word vectors. \n",
    "The more similar the words, the more likley the Euclidean distance will be close to 0. \n",
    "\n",
    "# Euclidean\n",
    "Implement a function that computesthe Euclidean distance between two vectors. \n",
    "\n"
   ]
  },
  {
   "cell_type": "code",
   "execution_count": 13,
   "metadata": {},
   "outputs": [],
   "source": [
    "def euclidean(A, B):\n",
    "    '''' INput:\n",
    "            A: a numpy array which corresponds to a word vector\n",
    "            B: a numpy aray which correspojnse to a wprd vector\n",
    "        Output:\n",
    "        d: numerical number representing the Euclidean distance between A and B. \n",
    "    '''\n",
    "\n",
    "    d = np.sqrt(np.sum((A-B)**2))\n",
    "\n",
    "    return d"
   ]
  },
  {
   "cell_type": "code",
   "execution_count": 14,
   "metadata": {},
   "outputs": [
    {
     "data": {
      "text/plain": [
       "2.4796925"
      ]
     },
     "execution_count": 14,
     "metadata": {},
     "output_type": "execute_result"
    }
   ],
   "source": [
    "# Test your function\n",
    "euclidean(king, queen)"
   ]
  },
  {
   "cell_type": "markdown",
   "metadata": {},
   "source": [
    "# 1.4 FInding the country of each Capital \n",
    "Now, you will use the previous  functions to compute similarities between vectors, and use these to find the capital cities of countries. You will write a function that takes in three word, and the embeding dictionary. Your task is to find the capital citiesr. FOr examples, given the following words:\n",
    "\n",
    "1 Athens 2: Grece 3: Baghdad, \n",
    "\n",
    "Your taks is to predict the country4: Iraq.\n",
    "\n",
    "# Exercise 3 - get_country\n",
    "\n",
    "### Instructions:\n",
    "1. TO predict the capital you might want to look at the King - Man + Woman = Queen exampleabove, and implement that scheme into a mathematical functiona, using the word embeddings and a similarity function. \n",
    "\n",
    "2. Iterate over the embedings dictionary and compute the cosine similarity score between your vector abd the current word embedding. \n",
    "3. You should add a check to make sure that the word you return is not any of the words that you fed in your function. Return the one with the highest score. \n"
   ]
  },
  {
   "cell_type": "code",
   "execution_count": 15,
   "metadata": {},
   "outputs": [],
   "source": [
    "def get_country(city1, country1, city2, embeddings, cosine_similarity = cosine_similarity):\n",
    "    \"\"\"\n",
    "\n",
    "    \"\"\"\n",
    "    # storing the city1 country1 and city2 in a set called group\n",
    "    group = [city1, country1, city2]\n",
    "\n",
    "    # get embeddings of the city1\n",
    "    city1_emb = embeddings[city1]\n",
    "\n",
    "    # get_embedding of country 1\n",
    "    country1_emb = embeddings[country1]\n",
    "\n",
    "    #get embedding of city2\n",
    "    city2_emb = embeddings[city2]\n",
    "\n",
    "    # get embedding of country2 \n",
    "    vec = (country1_emb - city1_emb) + city2_emb\n",
    "\n",
    "    # Intialize the similarity to -1 (it will be replaced by  a smilarities that aree closer to +1)\n",
    "    similarity = -1\n",
    "\n",
    "    # intialize country to empty string\n",
    "    country = ''\n",
    "\n",
    "    # Loop through all words in the embeddings dictionary\n",
    "    for word in embeddings.keys():\n",
    "        #first check if the word is in group\n",
    "        if word not in group:\n",
    "             # get the word embedding\n",
    "             word_emb = embeddings[word]\n",
    "\n",
    "             # calculate the cosine similarity \n",
    "             cur_similarity = cosine_similarity( vec , word_emb)\n",
    "\n",
    "             if cur_similarity> similarity:\n",
    "                 similarity = cur_similarity\n",
    "                 country = (word, similarity)\n",
    "    return country\n",
    "\n"
   ]
  },
  {
   "cell_type": "code",
   "execution_count": 16,
   "metadata": {},
   "outputs": [
    {
     "data": {
      "text/plain": [
       "('Egypt', 0.7626821)"
      ]
     },
     "execution_count": 16,
     "metadata": {},
     "output_type": "execute_result"
    }
   ],
   "source": [
    "get_country('Athens', 'Greece', 'Cairo', word_embeddings)"
   ]
  },
  {
   "cell_type": "markdown",
   "metadata": {},
   "source": [
    "# Model Accuracy "
   ]
  },
  {
   "cell_type": "markdown",
   "metadata": {},
   "source": [
    "Checking the model accuracy of the new function on the dataset\n",
    "\n",
    "Accuracy = correct # of predictions/ Toral # of predictions"
   ]
  },
  {
   "cell_type": "code",
   "execution_count": 17,
   "metadata": {},
   "outputs": [],
   "source": [
    "def get_accuracy(word_embeddings, data, get_country = get_country):\n",
    "    ''''''\n",
    "    #initialize num correct to zero\n",
    "    num_correct = 0\n",
    "    # Loop through the rows of the dataframe\n",
    "    for i , row in data.iterrows():\n",
    "        city1 = row['city1']\n",
    "\n",
    "        country1 = row['country1']\n",
    "\n",
    "        city2 = row['city2']\n",
    "\n",
    "        country2 = row['country2']\n",
    "\n",
    "        predcited_country2,_ = get_country(city1,country1, city2, word_embeddings )\n",
    "\n",
    "        if predcited_country2 == country2:\n",
    "            # increment the number of correct by 1 \n",
    "            num_correct +=1\n",
    "\n",
    "    m = len(data)\n",
    "    \n",
    "    #calculate the accuracy by dividing the number correct by m\n",
    "    accuracy = num_correct/m\n",
    "\n",
    "    return accuracy"
   ]
  },
  {
   "cell_type": "code",
   "execution_count": 18,
   "metadata": {},
   "outputs": [
    {
     "name": "stdout",
     "output_type": "stream",
     "text": [
      "Accuracy is 0.92\n"
     ]
    }
   ],
   "source": [
    "accuracy = get_accuracy(word_embeddings, data)\n",
    "print(f\"Accuracy is {accuracy:.2f}\")"
   ]
  },
  {
   "cell_type": "markdown",
   "metadata": {},
   "source": [
    "# Compute PCA"
   ]
  },
  {
   "cell_type": "code",
   "execution_count": 59,
   "metadata": {},
   "outputs": [],
   "source": [
    "def get_vectors(words, embedding):\n",
    "    X = np.zeros((1,300))\n",
    "    for word in words:\n",
    "        if word in word_embeddings:\n",
    "            x = embedding[word]\n",
    "            X = np.row_stack((X,x))\n",
    "    X = X[1:,:]\n",
    "    return X\n",
    "\n"
   ]
  },
  {
   "cell_type": "code",
   "execution_count": 60,
   "metadata": {},
   "outputs": [
    {
     "data": {
      "text/plain": [
       "(numpy.ndarray,)"
      ]
     },
     "execution_count": 60,
     "metadata": {},
     "output_type": "execute_result"
    }
   ],
   "source": [
    "vec = get_vectors(select_words,word_embeddings)\n",
    "type(vec) , "
   ]
  },
  {
   "cell_type": "code",
   "execution_count": 61,
   "metadata": {},
   "outputs": [],
   "source": [
    "def compute_pca(X,n_components = 2):\n",
    "    \"\"\"\n",
    "    \"\"\"\n",
    "    # Mean Centerd the data\n",
    "    X_mean = np.mean(X,axis=0)\n",
    "    centered_data  = X - X_mean\n",
    "\n",
    "    # Calculate Covariance matrix\n",
    "    cov_matrix = np.cov(centered_data.T)\n",
    "\n",
    "    # print(len(cov_matrix))\n",
    "    # print(cov_matrix)\n",
    "\n",
    "\n",
    "    eigen_vals, eigen_vecs = np.linalg.eig(cov_matrix)\n",
    "\n",
    "    # Sort eigenvalue in increasing order (get the indices from the sort)\n",
    "    idx_sorted = np.argsort(eigen_vals)\n",
    "    \n",
    "    # reverse the order so that it's from highest to lowest.\n",
    "    idx_sorted_decreasing = idx_sorted[::-1]\n",
    "\n",
    "    # sort the eigen values by idx_sorted_decreasing\n",
    "    eigen_vals_sorted = eigen_vals[idx_sorted_decreasing]\n",
    "\n",
    "    # sort eigenvectors using the idx_sorted_decreasing indices\n",
    "    eigen_vecs_sorted = eigen_vecs[idx_sorted_decreasing]\n",
    "\n",
    "    # select the first n eigenvectors \n",
    "    # (n is desired dimension of rescaled data array, or n_components)\n",
    "\n",
    "    eigen_vecs_subset = eigen_vecs_sorted[:,:n_components]\n",
    "\n",
    "    X_reduced = np.dot(eigen_vecs_subset.T,centered_data.T)\n",
    "\n",
    "    X_reduced = X_reduced.T\n",
    "\n",
    "    return X_reduced\n",
    "\n",
    "    "
   ]
  },
  {
   "cell_type": "markdown",
   "metadata": {},
   "source": [
    "Testing function"
   ]
  },
  {
   "cell_type": "code",
   "execution_count": 62,
   "metadata": {},
   "outputs": [
    {
     "name": "stdout",
     "output_type": "stream",
     "text": [
      "Your Original Matrix was (3, 10) and it became: \n",
      "[[ 0.01447897+0.j  0.04904179+0.j]\n",
      " [ 0.30525158+0.j -0.16273421+0.j]\n",
      " [-0.31973055+0.j  0.11369242+0.j]]\n"
     ]
    }
   ],
   "source": [
    "np.random.seed(1)\n",
    "X = np.random.rand(3,10)\n",
    "X_reduced = compute_pca(X, n_components = 2)\n",
    "print(\"Your Original Matrix was \"+ str(X.shape) + \" and it became: \")\n",
    "print(X_reduced)"
   ]
  },
  {
   "cell_type": "code",
   "execution_count": 63,
   "metadata": {},
   "outputs": [
    {
     "data": {
      "text/plain": [
       "((11, 2), (11, 300))"
      ]
     },
     "execution_count": 63,
     "metadata": {},
     "output_type": "execute_result"
    }
   ],
   "source": [
    "words = ['oil', 'gas', 'happy', 'sad', 'city', 'town',\n",
    "         'village', 'country', 'continent', 'petroleum', 'joyful']"
   ]
  },
  {
   "cell_type": "code",
   "execution_count": 66,
   "metadata": {},
   "outputs": [],
   "source": [
    "X = get_vectors(words,word_embeddings)"
   ]
  },
  {
   "cell_type": "code",
   "execution_count": 69,
   "metadata": {},
   "outputs": [
    {
     "data": {
      "text/plain": [
       "(11, 2)"
      ]
     },
     "execution_count": 69,
     "metadata": {},
     "output_type": "execute_result"
    }
   ],
   "source": [
    "result.shape"
   ]
  },
  {
   "cell_type": "code",
   "execution_count": 68,
   "metadata": {},
   "outputs": [
    {
     "ename": "IndexError",
     "evalue": "index 11 is out of bounds for axis 0 with size 11",
     "output_type": "error",
     "traceback": [
      "\u001b[1;31m---------------------------------------------------------------------------\u001b[0m",
      "\u001b[1;31mIndexError\u001b[0m                                Traceback (most recent call last)",
      "Cell \u001b[1;32mIn[68], line 4\u001b[0m\n\u001b[0;32m      2\u001b[0m plt\u001b[38;5;241m.\u001b[39mscatter(result[:,\u001b[38;5;241m0\u001b[39m], result[:,\u001b[38;5;241m1\u001b[39m])\n\u001b[0;32m      3\u001b[0m \u001b[38;5;28;01mfor\u001b[39;00m i , word \u001b[38;5;129;01min\u001b[39;00m \u001b[38;5;28menumerate\u001b[39m(words):\n\u001b[1;32m----> 4\u001b[0m     plt\u001b[38;5;241m.\u001b[39mannotate(word, xy\u001b[38;5;241m=\u001b[39m (\u001b[43mresult\u001b[49m\u001b[43m[\u001b[49m\u001b[43mi\u001b[49m\u001b[43m,\u001b[49m\u001b[38;5;241;43m0\u001b[39;49m\u001b[43m]\u001b[49m \u001b[38;5;241m-\u001b[39m \u001b[38;5;241m0.05\u001b[39m, result[i,\u001b[38;5;241m1\u001b[39m]\u001b[38;5;241m+\u001b[39m\u001b[38;5;241m0.1\u001b[39m))\n\u001b[0;32m      6\u001b[0m plt \u001b[38;5;241m.\u001b[39mshow()\n",
      "\u001b[1;31mIndexError\u001b[0m: index 11 is out of bounds for axis 0 with size 11"
     ]
    },
    {
     "data": {
      "image/png": "[encoded data removed]",
      "text/plain": [
       "<Figure size 640x480 with 1 Axes>"
      ]
     },
     "metadata": {},
     "output_type": "display_data"
    }
   ],
   "source": [
    "result = compute_pca(X,2)\n",
    "plt.scatter(result[:,0], result[:,1])\n",
    "for i , word in enumerate(words):\n",
    "    plt.annotate(word, xy= (result[i,0] - 0.05, result[i,1]+0.1))\n",
    "\n",
    "plt .show()"
   ]
  },
  {
   "cell_type": "code",
   "execution_count": null,
   "metadata": {},
   "outputs": [],
   "source": []
  }
 ],
 "metadata": {
  "kernelspec": {
   "display_name": "test_open3d",
   "language": "python",
   "name": "python3"
  },
  "language_info": {
   "codemirror_mode": {
    "name": "ipython",
    "version": 3
   },
   "file_extension": ".py",
   "mimetype": "text/x-python",
   "name": "python",
   "nbconvert_exporter": "python",
   "pygments_lexer": "ipython3",
   "version": "3.9.19"
  }
 },
 "nbformat": 4,
 "nbformat_minor": 2
}
